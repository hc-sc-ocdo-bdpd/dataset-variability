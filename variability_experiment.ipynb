{
 "cells": [
  {
   "attachments": {},
   "cell_type": "markdown",
   "metadata": {},
   "source": [
    "# Create embeddings and check the similarity metrics"
   ]
  },
  {
   "cell_type": "code",
   "execution_count": 7,
   "metadata": {},
   "outputs": [],
   "source": [
    "import os\n",
    "import numpy as np\n",
    "import pandas as pd\n",
    "from sklearn.datasets import fetch_20newsgroups\n",
    "from faiss_search import SearchDirectory, DatasetVariability"
   ]
  },
  {
   "cell_type": "code",
   "execution_count": 8,
   "metadata": {},
   "outputs": [],
   "source": [
    "# specify a folder to save to\n",
    "folder = \"space_embeddings\""
   ]
  },
  {
   "cell_type": "code",
   "execution_count": 10,
   "metadata": {},
   "outputs": [
    {
     "name": "stdout",
     "output_type": "stream",
     "text": [
      "Total rows (excluding header): 394\n"
     ]
    },
    {
     "name": "stderr",
     "output_type": "stream",
     "text": [
      "Processing rows: 100%|██████████| 394/394 [00:00<00:00, 8357.00it/s]"
     ]
    },
    {
     "name": "stdout",
     "output_type": "stream",
     "text": [
      "Chunking complete and saved to 'data_chunked.csv'.\n"
     ]
    },
    {
     "name": "stderr",
     "output_type": "stream",
     "text": [
      "\n",
      "  1%|          | 9/1000 [01:38<3:16:30, 11.90s/it]"
     ]
    }
   ],
   "source": [
    "# collect a dataset\n",
    "space_files = fetch_20newsgroups(subset='test', categories=['sci.space'])\n",
    "df = pd.DataFrame({'data': space_files.data, 'names': space_files.filenames})\n",
    "df.to_csv(os.path.join(folder, 'report.csv'))\n",
    "\n",
    "search = SearchDirectory(folder)\n",
    "search.chunk_text(os.path.join(folder, 'report.csv'),\n",
    "                  document_path_column='names',\n",
    "                  document_text_column='data')\n",
    "search.load_embedding_model(\"Meta-Llama-3.1-8B-Instruct-Q8_0.gguf\", gguf=True)\n",
    "search.embed_text(batch_size=1000)"
   ]
  },
  {
   "cell_type": "code",
   "execution_count": null,
   "metadata": {},
   "outputs": [],
   "source": [
    "embeddings = np.load(os.path.join(folder, 'embeddings.npy'))\n",
    "variability = DatasetVariability(embeddings, normalize=True)"
   ]
  },
  {
   "cell_type": "code",
   "execution_count": null,
   "metadata": {},
   "outputs": [],
   "source": [
    "variability.cosine_similarity_avg()"
   ]
  },
  {
   "cell_type": "code",
   "execution_count": null,
   "metadata": {},
   "outputs": [],
   "source": [
    "variability.variance()"
   ]
  }
 ],
 "metadata": {
  "kernelspec": {
   "display_name": ".venv",
   "language": "python",
   "name": "python3"
  },
  "language_info": {
   "codemirror_mode": {
    "name": "ipython",
    "version": 3
   },
   "file_extension": ".py",
   "mimetype": "text/x-python",
   "name": "python",
   "nbconvert_exporter": "python",
   "pygments_lexer": "ipython3",
   "version": "3.10.12"
  },
  "orig_nbformat": 4
 },
 "nbformat": 4,
 "nbformat_minor": 2
}
